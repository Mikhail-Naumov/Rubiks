{
 "cells": [
  {
   "cell_type": "markdown",
   "metadata": {},
   "source": [
    "### Rubik's Cube Solver\n",
    " #### todo \n",
    " - Generate a cube -> matrix generation\n",
    " - Generate move -> 'tranformations scripts'\n",
    " \n",
    "![](https://upload.wikimedia.org/wikipedia/commons/thumb/1/19/Rubik%E2%80%99s_cube_colors.svg/220px-Rubik%E2%80%99s_cube_colors.svg.png)\n"
   ]
  },
  {
   "cell_type": "code",
   "execution_count": 2,
   "metadata": {},
   "outputs": [],
   "source": [
    "import pandas as pd\n",
    "from time import time\n",
    "import numpy as np"
   ]
  },
  {
   "cell_type": "code",
   "execution_count": 3,
   "metadata": {},
   "outputs": [],
   "source": [
    "cube = {'side_1' : [([1,1,1]),\n",
    "                    [1,1,1],\n",
    "                    [1,1,1]],\n",
    "        'side_2' : [[2,2,2],\n",
    "                    [2,2,2],\n",
    "                    [2,2,2]],\n",
    "        'side_3' : [[3,3,3],\n",
    "                    [3,3,3],\n",
    "                    [3,3,3]],\n",
    "        'side_4' : [[4,4,4],\n",
    "                    [4,4,4],\n",
    "                    [4,4,4]],\n",
    "        'side_5' : [[5,5,5],\n",
    "                    [5,5,5],\n",
    "                    [5,5,5]],\n",
    "        'side_6' : [[6,6,6],\n",
    "                    [6,6,6],\n",
    "                    [6,6,6]]}"
   ]
  },
  {
   "cell_type": "code",
   "execution_count": 4,
   "metadata": {},
   "outputs": [],
   "source": [
    "cube_ ={'side_1' : [np.array([1,1,1]),\n",
    "                    np.array([1,1,1]),\n",
    "                    np.array([1,1,1])],\n",
    "        'side_2' : [np.array([2,2,2]),\n",
    "                    np.array([2,2,2]),\n",
    "                    np.array([2,2,2])],\n",
    "        'side_3' : [np.array([3,3,3]),\n",
    "                    np.array([3,3,3]),\n",
    "                    np.array([3,3,3])],\n",
    "        'side_4' : [np.array([4,4,4]),\n",
    "                    np.array([4,4,4]),\n",
    "                    np.array([4,4,4])],\n",
    "        'side_5' : [np.array([5,5,5]),\n",
    "                    np.array([5,5,5]),\n",
    "                    np.array([5,5,5])],\n",
    "        'side_6' : [np.array([6,6,6]),\n",
    "                    np.array([6,6,6]),\n",
    "                    np.array([6,6,6])]}"
   ]
  },
  {
   "cell_type": "markdown",
   "metadata": {},
   "source": [
    "### Possible Moves\n",
    " - 3 x-rotations\n",
    " - 3 y-rotations\n",
    " - 3 z-rotations\n",
    "     - 9 directions\n",
    " - 3 depths (90,180,270)\n",
    "     - 27  possible moves"
   ]
  },
  {
   "cell_type": "code",
   "execution_count": 5,
   "metadata": {},
   "outputs": [],
   "source": [
    "#    2\n",
    "#  1-3-5-6\n",
    "#    4\n",
    "\n",
    "# Above wants bot row\n",
    "# Below wants top row\n",
    "# Left wants far right col\n",
    "# Rihgt wants far left col\n",
    "\n",
    "\n",
    "#Generates relational side!!\n",
    "perif_map = {\n",
    "    'relation' : ['above','below','left','right'],\n",
    "    'side_1' : [cube['side_2'],cube['side_4'],cube['side_6'],cube['side_3']], #opp = 5\n",
    "    'side_2' : [cube['side_6'],cube['side_3'],cube['side_1'],cube['side_5']], #opp = 4\n",
    "    'side_3' : [cube['side_2'],cube['side_4'],cube['side_5'],cube['side_1']], #opp = 6\n",
    "    'side_4' : [cube['side_3'],cube['side_6'],cube['side_1'],cube['side_5']], #opp = 2\n",
    "    'side_5' : [cube['side_2'],cube['side_4'],cube['side_3'],cube['side_6']], #opp = 1\n",
    "    'side_6' : [cube['side_2'],cube['side_4'],cube['side_5'],cube['side_1']]} #opp = 3\n",
    "\n",
    "#Dict of which side is in relation to you\n",
    "perif_map_name = {\n",
    "    'relation' : ['above','below','left','right'],\n",
    "    'side_1' : ['side_2','side_4','side_6','side_3'], #opp = 5\n",
    "    'side_2' : ['side_6','side_3','side_1','side_5'], #opp = 4\n",
    "    'side_3' : ['side_2','side_4','side_5','side_1'], #opp = 6\n",
    "    'side_4' : ['side_3','side_6','side_1','side_5'], #opp = 2\n",
    "    'side_5' : ['side_2','side_4','side_3','side_6'], #opp = 1\n",
    "    'side_6' : ['side_2','side_4','side_5','side_1']} #opp = 3"
   ]
  },
  {
   "cell_type": "code",
   "execution_count": 6,
   "metadata": {},
   "outputs": [],
   "source": [
    "#5x5 matrix of center 3x3 and edges\n",
    "def build_5(side):\n",
    "    mat_5 =           [[0,perif_map[side][0][2],0],\n",
    "    [perif_map[side][2][0][2],cube[side][0],perif_map[side][3][0][0]],\n",
    "    [perif_map[side][2][1][2],cube[side][1],perif_map[side][3][1][0]],\n",
    "    [perif_map[side][2][2][2],cube[side][2],perif_map[side][3][2][0]],\n",
    "                      [0,perif_map[side][1][0],0]]\n",
    "    return mat_5"
   ]
  },
  {
   "cell_type": "code",
   "execution_count": 7,
   "metadata": {},
   "outputs": [],
   "source": [
    "#5x5 matrix of center 3x3 and edges\n",
    "#    o-   TOP  -o \n",
    "#  L    -r-r-r-   R\n",
    "#  F    -r-r-r-   I\n",
    "#  T    -r-r-r-   T\n",
    "#    o- BOTTOM -o\n",
    "def build_5b(side):\n",
    "    mat_5 = [[0,perif_map[side][0][2][0],perif_map[side][0][2][1],perif_map[side][0][2][2],0],\n",
    "      [perif_map[side][2][0][2],cube[side][0][0],cube[side][0][1],cube[side][0][2],perif_map[side][3][0][0]],\n",
    "      [perif_map[side][2][1][2],cube[side][1][0],cube[side][1][1],cube[side][1][2],perif_map[side][3][1][0]],\n",
    "      [perif_map[side][2][2][2],cube[side][2][0],cube[side][2][1],cube[side][2][2],perif_map[side][3][2][0]],\n",
    "            [0,perif_map[side][1][0][0],perif_map[side][1][0][1],perif_map[side][1][0][2],0]]\n",
    "    \n",
    "    \n",
    "    return mat_5"
   ]
  },
  {
   "cell_type": "code",
   "execution_count": 9,
   "metadata": {},
   "outputs": [],
   "source": [
    "test = build_5b('side_6')"
   ]
  },
  {
   "cell_type": "code",
   "execution_count": 10,
   "metadata": {},
   "outputs": [
    {
     "data": {
      "text/plain": [
       "[[0, 2, 2, 2, 0],\n",
       " [5, 6, 6, 6, 1],\n",
       " [5, 6, 6, 6, 1],\n",
       " [5, 6, 6, 6, 1],\n",
       " [0, 4, 4, 4, 0]]"
      ]
     },
     "execution_count": 10,
     "metadata": {},
     "output_type": "execute_result"
    }
   ],
   "source": [
    "test"
   ]
  },
  {
   "cell_type": "code",
   "execution_count": 11,
   "metadata": {},
   "outputs": [],
   "source": [
    "def rotate_side(side):\n",
    "    \"\"\"\n",
    "    rotates side clockwise 90deg\n",
    "    \"\"\"\n",
    "    new_side = np.rot90(np.array(build_5b(side)).copy(),-1)\n",
    "    return new_side"
   ]
  },
  {
   "cell_type": "code",
   "execution_count": 18,
   "metadata": {},
   "outputs": [
    {
     "data": {
      "text/plain": [
       "array([[0, 1, 1, 1, 0],\n",
       "       [3, 2, 2, 2, 6],\n",
       "       [3, 2, 2, 2, 6],\n",
       "       [3, 2, 2, 2, 6],\n",
       "       [0, 5, 5, 5, 0]])"
      ]
     },
     "execution_count": 18,
     "metadata": {},
     "output_type": "execute_result"
    }
   ],
   "source": [
    "rotated = rotate_side('side_2')\n",
    "rotated"
   ]
  },
  {
   "cell_type": "code",
   "execution_count": 15,
   "metadata": {},
   "outputs": [
    {
     "data": {
      "text/plain": [
       "['side_2', 'side_4', 'side_6', 'side_3']"
      ]
     },
     "execution_count": 15,
     "metadata": {},
     "output_type": "execute_result"
    }
   ],
   "source": [
    "perif_map_name['side_1']"
   ]
  },
  {
   "cell_type": "code",
   "execution_count": 313,
   "metadata": {},
   "outputs": [
    {
     "data": {
      "text/plain": [
       "[array([1, 1, 1]), [4, 4, 4], [4, 4, 4]]"
      ]
     },
     "execution_count": 313,
     "metadata": {},
     "output_type": "execute_result"
    }
   ],
   "source": [
    "cube[perif_map_name['side_1'][1]]"
   ]
  },
  {
   "cell_type": "code",
   "execution_count": 311,
   "metadata": {},
   "outputs": [],
   "source": [
    "def apply_rotation(side,rot):\n",
    "    for i in range(rot):\n",
    "        new_5 = rotate_side(side)\n",
    "        \n",
    "        #do cube[side from perfi map][pos] = stuff\n",
    "         \n",
    "        #updating top\n",
    "        cube[perif_map_name[side]][0][2] = new_5[0][1:4]\n",
    "        \n",
    "        #updating bot\n",
    "        cube[perif_map_name[side]][1][0] = new_5[2][1:4]\n",
    "        \n",
    "        #update lft\n",
    "        perif_map[side][2][0][2]\n",
    "        perif_map[side][2][1][2]\n",
    "        perif_map[side][2][2][2]\n",
    "        \n",
    "        #update rgt\n",
    "        perif_map[side][3][0][0]\n",
    "        perif_map[side][3][1][0]\n",
    "        perif_map[side][3][2][0]\n",
    "        \n",
    "        #update center\n",
    "        cube[side][0] = new_5[1][1:4]\n",
    "        cube[side][1] = new_5[2][1:4]\n",
    "        cube[side][2] = new_5[3][1:4]\n",
    "        \n",
    "        return(cube)"
   ]
  },
  {
   "cell_type": "code",
   "execution_count": 312,
   "metadata": {},
   "outputs": [
    {
     "ename": "TypeError",
     "evalue": "unhashable type: 'list'",
     "output_type": "error",
     "traceback": [
      "\u001b[0;31m---------------------------------------------------------------------------\u001b[0m",
      "\u001b[0;31mTypeError\u001b[0m                                 Traceback (most recent call last)",
      "\u001b[0;32m<ipython-input-312-1b69c3684a95>\u001b[0m in \u001b[0;36m<module>\u001b[0;34m()\u001b[0m\n\u001b[0;32m----> 1\u001b[0;31m \u001b[0mapply_rotation\u001b[0m\u001b[0;34m(\u001b[0m\u001b[0;34m'side_1'\u001b[0m\u001b[0;34m,\u001b[0m\u001b[0;36m1\u001b[0m\u001b[0;34m)\u001b[0m\u001b[0;34m\u001b[0m\u001b[0m\n\u001b[0m",
      "\u001b[0;32m<ipython-input-311-7203fc40fdb0>\u001b[0m in \u001b[0;36mapply_rotation\u001b[0;34m(side, rot)\u001b[0m\n\u001b[1;32m      6\u001b[0m \u001b[0;34m\u001b[0m\u001b[0m\n\u001b[1;32m      7\u001b[0m         \u001b[0;31m#updating top\u001b[0m\u001b[0;34m\u001b[0m\u001b[0;34m\u001b[0m\u001b[0m\n\u001b[0;32m----> 8\u001b[0;31m         \u001b[0mcube\u001b[0m\u001b[0;34m[\u001b[0m\u001b[0mperif_map_name\u001b[0m\u001b[0;34m[\u001b[0m\u001b[0mside\u001b[0m\u001b[0;34m]\u001b[0m\u001b[0;34m]\u001b[0m\u001b[0;34m[\u001b[0m\u001b[0;36m0\u001b[0m\u001b[0;34m]\u001b[0m\u001b[0;34m[\u001b[0m\u001b[0;36m2\u001b[0m\u001b[0;34m]\u001b[0m \u001b[0;34m=\u001b[0m \u001b[0mnew_5\u001b[0m\u001b[0;34m[\u001b[0m\u001b[0;36m0\u001b[0m\u001b[0;34m]\u001b[0m\u001b[0;34m[\u001b[0m\u001b[0;36m1\u001b[0m\u001b[0;34m:\u001b[0m\u001b[0;36m4\u001b[0m\u001b[0;34m]\u001b[0m\u001b[0;34m\u001b[0m\u001b[0m\n\u001b[0m\u001b[1;32m      9\u001b[0m \u001b[0;34m\u001b[0m\u001b[0m\n\u001b[1;32m     10\u001b[0m         \u001b[0;31m#updating bot\u001b[0m\u001b[0;34m\u001b[0m\u001b[0;34m\u001b[0m\u001b[0m\n",
      "\u001b[0;31mTypeError\u001b[0m: unhashable type: 'list'"
     ]
    }
   ],
   "source": [
    "apply_rotation('side_1',1)"
   ]
  },
  {
   "cell_type": "code",
   "execution_count": 283,
   "metadata": {},
   "outputs": [
    {
     "data": {
      "text/plain": [
       "{'side_1': [array([1, 1, 1]), array([1, 1, 1]), array([1, 1, 1])],\n",
       " 'side_2': [array([2, 2, 2]), array([2, 2, 2]), array([6, 6, 6])],\n",
       " 'side_3': [array([3, 3, 3]), array([3, 3, 3]), array([3, 3, 3])],\n",
       " 'side_4': [array([1, 1, 1]), array([4, 4, 4]), array([4, 4, 4])],\n",
       " 'side_5': [array([5, 5, 5]), array([5, 5, 5]), array([5, 5, 5])],\n",
       " 'side_6': [array([6, 6, 6]), array([6, 6, 6]), array([6, 6, 6])]}"
      ]
     },
     "execution_count": 283,
     "metadata": {},
     "output_type": "execute_result"
    }
   ],
   "source": [
    "cube"
   ]
  },
  {
   "cell_type": "code",
   "execution_count": 284,
   "metadata": {},
   "outputs": [
    {
     "data": {
      "text/plain": [
       "[[0, 6, 6, 6, 0],\n",
       " [6, 1, 1, 1, 3],\n",
       " [6, 1, 1, 1, 3],\n",
       " [6, 1, 1, 1, 3],\n",
       " [0, 1, 1, 1, 0]]"
      ]
     },
     "execution_count": 284,
     "metadata": {},
     "output_type": "execute_result"
    }
   ],
   "source": [
    "build_5b('side_1')"
   ]
  },
  {
   "cell_type": "code",
   "execution_count": null,
   "metadata": {},
   "outputs": [],
   "source": []
  }
 ],
 "metadata": {
  "kernelspec": {
   "display_name": "Python [conda env:NN]",
   "language": "python",
   "name": "conda-env-NN-py"
  },
  "language_info": {
   "codemirror_mode": {
    "name": "ipython",
    "version": 3
   },
   "file_extension": ".py",
   "mimetype": "text/x-python",
   "name": "python",
   "nbconvert_exporter": "python",
   "pygments_lexer": "ipython3",
   "version": "3.6.4"
  }
 },
 "nbformat": 4,
 "nbformat_minor": 2
}
