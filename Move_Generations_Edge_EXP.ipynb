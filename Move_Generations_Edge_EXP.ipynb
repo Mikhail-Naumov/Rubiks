{
 "cells": [
  {
   "cell_type": "markdown",
   "metadata": {},
   "source": [
    "### Edges\n",
    "\n",
    "### this notebook is for assuming that using rows to delinate location of a piece is a bad, idea, and rather use the edges.\n",
    "\n",
    "#### todo\n",
    " - Generate a cube -> matrix generation\n",
    " - Generate move -> 'tranformations scripts'\n",
    "\n",
    " \n",
    "![](https://upload.wikimedia.org/wikipedia/commons/thumb/1/19/Rubik%E2%80%99s_cube_colors.svg/220px-Rubik%E2%80%99s_cube_colors.svg.png)\n"
   ]
  },
  {
   "cell_type": "code",
   "execution_count": 6,
   "metadata": {},
   "outputs": [],
   "source": [
    "import numpy as np"
   ]
  },
  {
   "cell_type": "code",
   "execution_count": 7,
   "metadata": {},
   "outputs": [],
   "source": [
    "#Assuming the center piece never moves, we can assign a side by the color of the center piece\n",
    "#and each row relates to the \n",
    "#   2\n",
    "# 1-3-5-6\n",
    "#   4\n",
    "\n",
    "#  w\n",
    "#g-r-b-o\n",
    "#  y\n",
    "\n",
    "# center, top, bot, lft, right\n",
    "cube={\n",
    "    'side_g' : np.array([['g11','g12','g13'],\n",
    "                         ['g21',' G ','g23'],\n",
    "                         ['g31','g32','g33']]),\n",
    "\n",
    "    'side_w' : np.array([['w11','w12','w13'],\n",
    "                         ['w21',' W ','w23'],\n",
    "                         ['w31','w32','w33']]),\n",
    "\n",
    "    'side_r' : np.array([['r11','r12','r13'],\n",
    "                         ['r21',' R ','r23'],\n",
    "                         ['r31','r32','r33']]),\n",
    "\n",
    "    'side_y' : np.array([['y11','y12','y13'],\n",
    "                         ['y21',' Y ','y23'],\n",
    "                         ['y31','y32','y33']]),\n",
    "\n",
    "    'side_b' : np.array([['b11','b12','b13'],\n",
    "                         ['b21',' B ','b23'],\n",
    "                         ['b31','b32','b33']]),\n",
    "\n",
    "    'side_o' : np.array([['o11','o12','o13'],\n",
    "                         ['o21',' O ','o23'],\n",
    "                         ['o31','o32','o33']])}"
   ]
  },
  {
   "cell_type": "code",
   "execution_count": 66,
   "metadata": {},
   "outputs": [],
   "source": [
    "class rubik:\n",
    "    cube={\n",
    "        'side_g' : np.array([['g11','g12','g13'],\n",
    "                             ['g21',' G ','g23'],\n",
    "                             ['g31','g32','g33']]),\n",
    "       \n",
    "        'side_w' : np.array([['w11','w12','w13'],\n",
    "                             ['w21',' W ','w23'],\n",
    "                             ['w31','w32','w33']]),\n",
    "       \n",
    "        'side_r' : np.array([['r11','r12','r13'],\n",
    "                             ['r21',' R ','r23'],\n",
    "                             ['r31','r32','r33']]),\n",
    "       \n",
    "        'side_y' : np.array([['y11','y12','y13'],\n",
    "                             ['y21',' Y ','y23'],\n",
    "                             ['y31','y32','y33']]),\n",
    "       \n",
    "        'side_b' : np.array([['b11','b12','b13'],\n",
    "                             ['b21',' B ','b23'],\n",
    "                             ['b31','b32','b33']]),\n",
    "       \n",
    "        'side_o' : np.array([['o11','o12','o13'],\n",
    "                             ['o21',' O ','o23'],\n",
    "                             ['o31','o32','o33']])}\n",
    "    \n",
    "    perif_loc = {\n",
    "        'side_g' : {'top':['side_w','lft',0],\n",
    "                    'bot':['side_y','lft',0],\n",
    "                    'lft':['side_o','rgt',0],\n",
    "                    'rgt':['side_r','lft',0]},\n",
    "\n",
    "        'side_w' : {\"top\":['side_o','top',1],\n",
    "                    \"bot\":['side_r','top',0],\n",
    "                    \"lft\":['side_g','top',0],\n",
    "                    \"rgt\":['side_b','top',1]}, #opp = y\n",
    "\n",
    "        'side_r' : {\"top\":['side_w','bot',0],\n",
    "                    \"bot\":['side_y','top',0],\n",
    "                    \"lft\":['side_g','rgt',0],\n",
    "                    \"rgt\":['side_b','lft',0]}, #opp = o\n",
    "\n",
    "        'side_y' : {\"top\":['side_r','bot',0],\n",
    "                    \"bot\":['side_o','bot',1],\n",
    "                    \"lft\":['side_g','bot',1],\n",
    "                    \"rgt\":['side_b','bot',0]}, #opp = w\n",
    "\n",
    "        'side_b' : {\"top\":['side_w','rgt',1],\n",
    "                    \"bot\":['side_y','rgt',0],\n",
    "                    \"lft\":['side_r','rgt',0],\n",
    "                    \"rgt\":['side_o','lft',0]}, #opp = g\n",
    "\n",
    "        'side_o' : {\"top\":['side_w','top',1],\n",
    "                    \"bot\":['side_y','bot',1],\n",
    "                    \"lft\":['side_b','bot',0],\n",
    "                    \"rgt\":['side_g','lft',0]}} #opp = 3\n",
    "    \n",
    "    #perif_loc[side_x] = [t-r] : 'face on t-r side', 'that face's row/col', if flip 0=no, 1=yes\n",
    "    \"\"\"\n",
    "    Here we are useing the perif location, to fetch the side and position, \n",
    "    in relation to the parent cube.\n",
    "\n",
    "    This is a replacement to perif_map.\n",
    "    \"\"\"    \n",
    "    def surround(side):\n",
    "        surroundings = []\n",
    "        for pos in ['top','bot','lft','rgt']:\n",
    "\n",
    "            if perif_loc[side][pos][1]=='top':\n",
    "                if perif_loc[side][pos][2]==1:\n",
    "                    surroundings.append([pos,cube[perif_loc[side][pos][0]][0][::-1]])\n",
    "                else:\n",
    "                    surroundings.append([pos,cube[perif_loc[side][pos][0]][0]])\n",
    "\n",
    "            elif perif_loc[side][pos][1]=='bot':\n",
    "                if perif_loc[side][pos][2]==1:\n",
    "                    surroundings.append([pos,cube[perif_loc[side][pos][0]][2][::-1]])\n",
    "                else:\n",
    "                    surroundings.append([pos,cube[perif_loc[side][pos][0]][2]])\n",
    "\n",
    "            elif perif_loc[side][pos][1]=='lft':\n",
    "                if perif_loc[side][pos][2]==1:\n",
    "                    surroundings.append([pos,cube[perif_loc[side][pos][0]][:,0][::-1]])\n",
    "                else:\n",
    "                    surroundings.append([pos,cube[perif_loc[side][pos][0]][:,0]])\n",
    "\n",
    "            elif perif_loc[side][pos][1]=='rgt':\n",
    "                if perif_loc[side][pos][2]==1:\n",
    "                    surroundings.append([pos,cube[perif_loc[side][pos][0]][:,2][::-1]])\n",
    "                else:\n",
    "                    surroundings.append([pos,cube[perif_loc[side][pos][0]][:,2]])\n",
    "            else:\n",
    "                print('somthing in perif_loc dict, is wrong')\n",
    "        return surroundings\n",
    "    \n",
    "    #build_5a\n",
    "    #5x5 matrix of center 3x3 and edges\n",
    "    #    o-   TOP  -o \n",
    "    #  L    -r-r-r-   R\n",
    "    #  F    -r-r-r-   I\n",
    "    #  T    -r-r-r-   T\n",
    "    #    o- BOTTOM -o\n",
    "\n",
    "    #surrounds = [0-4,top-rgt][array][loc in array]\n",
    "\n",
    "    def matrix_5(side): \n",
    "        surroundings = surround(side)\n",
    "        mat_5 = [['   ',surroundings[0][1][0],surroundings[0][1][1],surroundings[0][1][2],'   '],\n",
    "          [surroundings[2][1][0],cube[side][0][0],cube[side][0][1],cube[side][0][2],surroundings[3][1][0]],\n",
    "          [surroundings[2][1][1],cube[side][1][0],cube[side][1][1],cube[side][1][2],surroundings[3][1][1]],\n",
    "          [surroundings[2][1][2],cube[side][2][0],cube[side][2][1],cube[side][2][2],surroundings[3][1][2]],\n",
    "                ['   ',surroundings[1][1][0],surroundings[1][1][1],surroundings[1][1][2],'   ']]\n",
    "        return mat_5\n",
    "    \n",
    "    \n",
    "    def face(side):\n",
    "        return(cube[side])\n",
    "    \n",
    "    def place():\n",
    "        print(\"  w\")\n",
    "        print(\"g-r-b-o\")\n",
    "        print(\"  Y\")"
   ]
  },
  {
   "cell_type": "code",
   "execution_count": 67,
   "metadata": {},
   "outputs": [
    {
     "data": {
      "text/plain": [
       "[['   ', 'w33', 'w23', 'w13', '   '],\n",
       " ['r13', 'b11', 'b12', 'b13', 'o11'],\n",
       " ['r23', 'b21', ' B ', 'b23', 'o21'],\n",
       " ['r33', 'b31', 'b32', 'b33', 'o31'],\n",
       " ['   ', 'y13', 'y23', 'y33', '   ']]"
      ]
     },
     "execution_count": 67,
     "metadata": {},
     "output_type": "execute_result"
    }
   ],
   "source": [
    "rubik.matrix_5('side_b')"
   ]
  },
  {
   "cell_type": "code",
   "execution_count": 124,
   "metadata": {},
   "outputs": [
    {
     "data": {
      "text/plain": [
       "[['side_w', 'rgt', 1],\n",
       " ['side_y', 'rgt', 0],\n",
       " ['side_r', 'rgt', 0],\n",
       " ['side_o', 'lft', 0]]"
      ]
     },
     "execution_count": 124,
     "metadata": {},
     "output_type": "execute_result"
    }
   ],
   "source": [
    "perif_name['side_b']"
   ]
  },
  {
   "cell_type": "code",
   "execution_count": 190,
   "metadata": {},
   "outputs": [],
   "source": [
    "#5x5 matrix of center 3x3 and edges\n",
    "#    o-   TOP  -o \n",
    "#  L    -r-r-r-   R\n",
    "#  F    -r-r-r-   I\n",
    "#  T    -r-r-r-   T\n",
    "#    o- BOTTOM -o\n",
    "\n",
    "def build_5b(side):\n",
    "    mat_5 = [['   ',perif_map[side][0][0],perif_map[side][0][1],perif_map[side][0][2],'   '],\n",
    "      [perif_map[side][2][0],cube[side][0][0],cube[side][0][1],cube[side][0][2],perif_map[side][3][0]],\n",
    "      [perif_map[side][2][1],cube[side][1][0],cube[side][1][1],cube[side][1][2],perif_map[side][3][1]],\n",
    "      [perif_map[side][2][2],cube[side][2][0],cube[side][2][1],cube[side][2][2],perif_map[side][3][2]],\n",
    "            ['   ',perif_map[side][1][0],perif_map[side][1][1],perif_map[side][1][2],'   ']]\n",
    "    return mat_5"
   ]
  },
  {
   "cell_type": "code",
   "execution_count": 191,
   "metadata": {},
   "outputs": [
    {
     "data": {
      "text/plain": [
       "[['   ', 'w13', 'w12', 'w11', '   '],\n",
       " ['b13', 'o11', 'o12', 'o13', 'g11'],\n",
       " ['b23', 'o21', ' O ', 'o23', 'g21'],\n",
       " ['b33', 'o31', 'o32', 'o33', 'g31'],\n",
       " ['   ', 'y33', 'y32', 'y31', '   ']]"
      ]
     },
     "execution_count": 191,
     "metadata": {},
     "output_type": "execute_result"
    }
   ],
   "source": [
    "build_5b('side_o')"
   ]
  },
  {
   "cell_type": "code",
   "execution_count": 199,
   "metadata": {},
   "outputs": [],
   "source": [
    "def rotate_side(side):\n",
    "    \"\"\"\n",
    "    rotates side clockwise 90deg\n",
    "    \"\"\"\n",
    "    new_side = np.rot90(build_5b(side).copy(),-1)\n",
    "    return new_side"
   ]
  },
  {
   "cell_type": "code",
   "execution_count": 248,
   "metadata": {},
   "outputs": [
    {
     "data": {
      "text/plain": [
       "array(['o11', 'o12', 'o13'], dtype='<U3')"
      ]
     },
     "execution_count": 248,
     "metadata": {},
     "output_type": "execute_result"
    }
   ],
   "source": [
    "cube['side_o'][0][:]"
   ]
  },
  {
   "cell_type": "code",
   "execution_count": 37,
   "metadata": {},
   "outputs": [
    {
     "name": "stdout",
     "output_type": "stream",
     "text": [
      "  w\n",
      "g-r-b-o\n",
      "  Y\n"
     ]
    }
   ],
   "source": [
    "rubik.place()"
   ]
  },
  {
   "cell_type": "code",
   "execution_count": 44,
   "metadata": {},
   "outputs": [],
   "source": [
    "#perif_loc[side_x] = [t-r] : 'face on t-r side', 'that face's row/col', if flip 0=no, 1=yes\n",
    "\"\"\"\n",
    "Here we are useing the perif location, to fetch the side and position, \n",
    "in relation to the parent cube.\n",
    "\n",
    "This is a replacement to perif_map.\n",
    "\"\"\"\n",
    "def surround(side):\n",
    "    surroundings = []\n",
    "    for pos in ['top','bot','lft','rgt']:\n",
    "    \n",
    "        if perif_loc[side][pos][1]=='top':\n",
    "            if perif_loc[side][pos][2]==1:\n",
    "                surroundings.append([pos,cube[perif_loc[side][pos][0]][0][::-1]])\n",
    "            else:\n",
    "                surroundings.append([pos,cube[perif_loc[side][pos][0]][0]])\n",
    "\n",
    "        elif perif_loc[side][pos][1]=='bot':\n",
    "            if perif_loc[side][pos][2]==1:\n",
    "                surroundings.append([pos,cube[perif_loc[side][pos][0]][2][::-1]])\n",
    "            else:\n",
    "                surroundings.append([pos,cube[perif_loc[side][pos][0]][2]])\n",
    "\n",
    "        elif perif_loc[side][pos][1]=='lft':\n",
    "            if perif_loc[side][pos][2]==1:\n",
    "                surroundings.append([pos,cube[perif_loc[side][pos][0]][:,0][::-1]])\n",
    "            else:\n",
    "                surroundings.append([pos,cube[perif_loc[side][pos][0]][:,0]])\n",
    "\n",
    "        elif perif_loc[side][pos][1]=='rgt':\n",
    "            if perif_loc[side][pos][2]==1:\n",
    "                surroundings.append([pos,cube[perif_loc[side][pos][0]][:,2][::-1]])\n",
    "            else:\n",
    "                surroundings.append([pos,cube[perif_loc[side][pos][0]][:,2]])\n",
    "        else:\n",
    "            print('somthing in perif_loc dict, is wrong')\n",
    "    return surroundings"
   ]
  },
  {
   "cell_type": "code",
   "execution_count": 46,
   "metadata": {},
   "outputs": [],
   "source": [
    "#build_5a\n",
    "\n",
    "#5x5 matrix of center 3x3 and edges\n",
    "#    o-   TOP  -o \n",
    "#  L    -r-r-r-   R\n",
    "#  F    -r-r-r-   I\n",
    "#  T    -r-r-r-   T\n",
    "#    o- BOTTOM -o\n",
    "\n",
    "#surrounds = [0-4,top-rgt][array][loc in array]\n",
    "\n",
    "def build_5a(side): \n",
    "    surroundings = surround(side)\n",
    "    mat_5 = [['   ',surroundings[0][1][0],surroundings[0][1][1],surroundings[0][1][2],'   '],\n",
    "      [surroundings[2][1][0],cube[side][0][0],cube[side][0][1],cube[side][0][2],surroundings[3][1][0]],\n",
    "      [surroundings[2][1][1],cube[side][1][0],cube[side][1][1],cube[side][1][2],surroundings[3][1][1]],\n",
    "      [surroundings[2][1][2],cube[side][2][0],cube[side][2][1],cube[side][2][2],surroundings[3][1][2]],\n",
    "            ['   ',surroundings[1][1][0],surroundings[1][1][1],surroundings[1][1][2],'   ']]\n",
    "    return mat_5"
   ]
  },
  {
   "cell_type": "code",
   "execution_count": 134,
   "metadata": {},
   "outputs": [
    {
     "data": {
      "text/plain": [
       "[['   ', 'g31', 'b32', 'b33', '   '],\n",
       " ['g31', 'o11', 'o12', 'o13', 'g11'],\n",
       " ['b32', 'o21', ' O ', 'o23', 'g21'],\n",
       " ['b33', 'o31', 'o32', 'o33', 'g31'],\n",
       " ['   ', 'g11', 'g21', 'g31', '   ']]"
      ]
     },
     "execution_count": 134,
     "metadata": {},
     "output_type": "execute_result"
    }
   ],
   "source": [
    "build_5a('side_o')"
   ]
  },
  {
   "cell_type": "code",
   "execution_count": 135,
   "metadata": {},
   "outputs": [
    {
     "ename": "TypeError",
     "evalue": "'list' object is not callable",
     "output_type": "error",
     "traceback": [
      "\u001b[0;31m---------------------------------------------------------------------------\u001b[0m",
      "\u001b[0;31mTypeError\u001b[0m                                 Traceback (most recent call last)",
      "\u001b[0;32m<ipython-input-135-62edccc49272>\u001b[0m in \u001b[0;36m<module>\u001b[0;34m()\u001b[0m\n\u001b[0;32m----> 1\u001b[0;31m \u001b[0msurroundings\u001b[0m\u001b[0;34m(\u001b[0m\u001b[0;34m'side_o'\u001b[0m\u001b[0;34m)\u001b[0m\u001b[0;34m\u001b[0m\u001b[0m\n\u001b[0m",
      "\u001b[0;31mTypeError\u001b[0m: 'list' object is not callable"
     ]
    }
   ],
   "source": [
    "surroundings"
   ]
  },
  {
   "cell_type": "code",
   "execution_count": 31,
   "metadata": {},
   "outputs": [
    {
     "name": "stdout",
     "output_type": "stream",
     "text": [
      "  w\n",
      "g-r-b-o\n",
      "  Y\n"
     ]
    }
   ],
   "source": [
    "rubik.place()"
   ]
  },
  {
   "cell_type": "code",
   "execution_count": 101,
   "metadata": {},
   "outputs": [
    {
     "data": {
      "text/plain": [
       "array([['   ', 'b33', 'b32', 'b31', '   '],\n",
       "       ['y33', 'o31', 'o21', 'o11', 'w13'],\n",
       "       ['y32', 'o32', ' O ', 'o12', 'w12'],\n",
       "       ['y31', 'o33', 'o23', 'o13', 'w11'],\n",
       "       ['   ', 'g31', 'g21', 'g11', '   ']], dtype='<U3')"
      ]
     },
     "execution_count": 101,
     "metadata": {},
     "output_type": "execute_result"
    }
   ],
   "source": [
    "turned = np.rot90(build_5a('side_o'),-1)\n",
    "turned"
   ]
  },
  {
   "cell_type": "code",
   "execution_count": 69,
   "metadata": {},
   "outputs": [
    {
     "data": {
      "text/plain": [
       "[['top', array(['w13', 'w12', 'w11'], dtype='<U3')],\n",
       " ['bot', array(['y33', 'y32', 'y31'], dtype='<U3')],\n",
       " ['lft', array(['b31', 'b32', 'b33'], dtype='<U3')],\n",
       " ['rgt', array(['g11', 'g21', 'g31'], dtype='<U3')]]"
      ]
     },
     "execution_count": 69,
     "metadata": {},
     "output_type": "execute_result"
    }
   ],
   "source": [
    "surround('side_o')"
   ]
  },
  {
   "cell_type": "code",
   "execution_count": 72,
   "metadata": {},
   "outputs": [
    {
     "name": "stdout",
     "output_type": "stream",
     "text": [
      "side_g\n",
      "side_w\n",
      "side_r\n",
      "side_y\n",
      "side_b\n",
      "side_o\n"
     ]
    }
   ],
   "source": [
    "for i in perif_loc:\n",
    "    print(i)"
   ]
  },
  {
   "cell_type": "code",
   "execution_count": 75,
   "metadata": {},
   "outputs": [
    {
     "data": {
      "text/plain": [
       "array([['   ', 'g11', 'g21', 'g31', '   '],\n",
       "       ['w11', 'o13', 'o23', 'o33', 'y31'],\n",
       "       ['w12', 'o12', ' O ', 'o32', 'y32'],\n",
       "       ['w13', 'o11', 'o21', 'o31', 'y33'],\n",
       "       ['   ', 'b31', 'b32', 'b33', '   ']], dtype='<U3')"
      ]
     },
     "execution_count": 75,
     "metadata": {},
     "output_type": "execute_result"
    }
   ],
   "source": [
    "turned"
   ]
  },
  {
   "cell_type": "code",
   "execution_count": 81,
   "metadata": {},
   "outputs": [
    {
     "name": "stdout",
     "output_type": "stream",
     "text": [
      "['side_w', 'top', 1]\n",
      "['side_y', 'bot', 1]\n",
      "['side_b', 'bot', 0]\n",
      "['side_g', 'lft', 0]\n"
     ]
    }
   ],
   "source": [
    "for pos in ['top','bot','lft','rgt']:\n",
    "    print(perif_loc['side_o'][pos])"
   ]
  },
  {
   "cell_type": "code",
   "execution_count": 102,
   "metadata": {},
   "outputs": [
    {
     "data": {
      "text/plain": [
       "array([['   ', 'b33', 'b32', 'b31', '   '],\n",
       "       ['y33', 'o31', 'o21', 'o11', 'w13'],\n",
       "       ['y32', 'o32', ' O ', 'o12', 'w12'],\n",
       "       ['y31', 'o33', 'o23', 'o13', 'w11'],\n",
       "       ['   ', 'g31', 'g21', 'g11', '   ']], dtype='<U3')"
      ]
     },
     "execution_count": 102,
     "metadata": {},
     "output_type": "execute_result"
    }
   ],
   "source": [
    "turned"
   ]
  },
  {
   "cell_type": "code",
   "execution_count": 106,
   "metadata": {},
   "outputs": [
    {
     "name": "stdout",
     "output_type": "stream",
     "text": [
      "  w\n",
      "g-r-b-o\n",
      "  Y\n"
     ]
    }
   ],
   "source": [
    "rubik.place()"
   ]
  },
  {
   "cell_type": "code",
   "execution_count": 124,
   "metadata": {},
   "outputs": [],
   "source": [
    "def turn(side):\n",
    "    turned = np.rot90(build_5a(side),-1)\n",
    "    #apply rot\n",
    "\n",
    "    #perif_loc['side_o'] - gives dict of periferals, relating to side_o\n",
    "    #perif_loc['side_o']['top'] - tells you about the side that is on the 'top' of side_o\n",
    "    #returns : other side - that sides row - flip or not\n",
    "\n",
    "    #cube[perif_loc['side_o']['top']] =  \n",
    "\n",
    "    for pos in ['top','bot','lft','rgt']:\n",
    "        if perif_loc[side][pos][1]=='top':\n",
    "            cube[perif_loc[side]['top'][0]][0][0] = turned[0][1]\n",
    "            cube[perif_loc[side]['top'][0]][0][1] = turned[0][2]\n",
    "            cube[perif_loc[side]['top'][0]][0][2] = turned[0][3]\n",
    "\n",
    "        elif perif_loc[side][pos][1]=='bot':\n",
    "            cube[perif_loc[side]['bot'][0]][2][0] = turned[4][1]\n",
    "            cube[perif_loc[side]['bot'][0]][2][1] = turned[4][2]\n",
    "            cube[perif_loc[side]['bot'][0]][2][2] = turned[4][3]\n",
    "\n",
    "        elif perif_loc[side][pos][1]=='lft':\n",
    "            cube[perif_loc['side_o']['lft'][0]][0][0] = turned[1][0]\n",
    "            cube[perif_loc['side_o']['lft'][0]][1][0] = turned[2][0]\n",
    "            cube[perif_loc['side_o']['lft'][0]][2][0] = turned[3][0]\n",
    "\n",
    "        elif perif_loc[side][pos][1]=='rgt':\n",
    "            cube[perif_loc[side]['lft'][2]][0][0] = turned[1][5]\n",
    "            cube[perif_loc[side]['lft'][2]][1][0] = turned[2][5]\n",
    "            cube[perif_loc[side]['lft'][2]][2][0] = turned[3][5]\n",
    "        else:\n",
    "            print('somthing in perif_loc dict, is wrong')\n",
    "    return cube"
   ]
  },
  {
   "cell_type": "code",
   "execution_count": 125,
   "metadata": {},
   "outputs": [
    {
     "data": {
      "text/plain": [
       "{'side_b': array([['b11', 'b12', 'b13'],\n",
       "        ['b21', ' B ', 'b23'],\n",
       "        ['b31', 'b32', 'b33']], dtype='<U3'),\n",
       " 'side_g': array([['g11', 'g12', 'g13'],\n",
       "        ['g21', ' G ', 'g23'],\n",
       "        ['g31', 'g32', 'g33']], dtype='<U3'),\n",
       " 'side_o': array([['o11', 'o12', 'o13'],\n",
       "        ['o21', ' O ', 'o23'],\n",
       "        ['o31', 'o32', 'o33']], dtype='<U3'),\n",
       " 'side_r': array([['r11', 'r12', 'r13'],\n",
       "        ['r21', ' R ', 'r23'],\n",
       "        ['r31', 'r32', 'r33']], dtype='<U3'),\n",
       " 'side_w': array([['w11', 'w12', 'w13'],\n",
       "        ['w21', ' W ', 'w23'],\n",
       "        ['w31', 'w32', 'w33']], dtype='<U3'),\n",
       " 'side_y': array([['y11', 'y12', 'y13'],\n",
       "        ['y21', ' Y ', 'y23'],\n",
       "        ['y31', 'y32', 'y33']], dtype='<U3')}"
      ]
     },
     "execution_count": 125,
     "metadata": {},
     "output_type": "execute_result"
    }
   ],
   "source": [
    "cube"
   ]
  },
  {
   "cell_type": "code",
   "execution_count": 131,
   "metadata": {},
   "outputs": [
    {
     "data": {
      "text/plain": [
       "{'side_b': array([['g11', 'b12', 'b13'],\n",
       "        ['g21', ' B ', 'b23'],\n",
       "        ['g31', 'b32', 'b33']], dtype='<U3'),\n",
       " 'side_g': array([['g11', 'g12', 'g13'],\n",
       "        ['g21', ' G ', 'g23'],\n",
       "        ['g31', 'g32', 'g33']], dtype='<U3'),\n",
       " 'side_o': array([['o11', 'o12', 'o13'],\n",
       "        ['o21', ' O ', 'o23'],\n",
       "        ['o31', 'o32', 'o33']], dtype='<U3'),\n",
       " 'side_r': array([['r11', 'r12', 'r13'],\n",
       "        ['r21', ' R ', 'r23'],\n",
       "        ['r31', 'r32', 'r33']], dtype='<U3'),\n",
       " 'side_w': array([['b33', 'b32', 'g31'],\n",
       "        ['w21', ' W ', 'w23'],\n",
       "        ['w31', 'w32', 'w33']], dtype='<U3'),\n",
       " 'side_y': array([['y11', 'y12', 'y13'],\n",
       "        ['y21', ' Y ', 'y23'],\n",
       "        ['g31', 'g21', 'g11']], dtype='<U3')}"
      ]
     },
     "execution_count": 131,
     "metadata": {},
     "output_type": "execute_result"
    }
   ],
   "source": [
    "turn('side_o')"
   ]
  },
  {
   "cell_type": "code",
   "execution_count": 128,
   "metadata": {},
   "outputs": [
    {
     "name": "stdout",
     "output_type": "stream",
     "text": [
      "  w\n",
      "g-r-b-o\n",
      "  Y\n"
     ]
    }
   ],
   "source": [
    "rubik.place()"
   ]
  },
  {
   "cell_type": "code",
   "execution_count": null,
   "metadata": {},
   "outputs": [],
   "source": []
  }
 ],
 "metadata": {
  "kernelspec": {
   "display_name": "Python [conda root]",
   "language": "python",
   "name": "conda-root-py"
  },
  "language_info": {
   "codemirror_mode": {
    "name": "ipython",
    "version": 3
   },
   "file_extension": ".py",
   "mimetype": "text/x-python",
   "name": "python",
   "nbconvert_exporter": "python",
   "pygments_lexer": "ipython3",
   "version": "3.6.4"
  }
 },
 "nbformat": 4,
 "nbformat_minor": 2
}
