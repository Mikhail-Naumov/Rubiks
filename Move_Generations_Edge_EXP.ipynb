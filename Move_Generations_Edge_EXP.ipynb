{
 "cells": [
  {
   "cell_type": "markdown",
   "metadata": {},
   "source": [
    "### Edges\n",
    "\n",
    "### this notebook is for assuming that using rows to delinate location of a piece is a bad, idea, and rather use the edges.\n",
    "\n",
    "#### todo\n",
    " - Generate a cube -> matrix generation\n",
    " - Generate move -> 'tranformations scripts'\n",
    "\n",
    " \n",
    "![](https://upload.wikimedia.org/wikipedia/commons/thumb/1/19/Rubik%E2%80%99s_cube_colors.svg/220px-Rubik%E2%80%99s_cube_colors.svg.png)\n"
   ]
  },
  {
   "cell_type": "code",
   "execution_count": 2,
   "metadata": {},
   "outputs": [],
   "source": [
    "import numpy as np"
   ]
  },
  {
   "cell_type": "code",
   "execution_count": 5,
   "metadata": {},
   "outputs": [
    {
     "data": {
      "text/plain": [
       "array([['1', '1', '1'],\n",
       "       ['1', 'G', '1'],\n",
       "       ['1', '1', '1']], dtype='<U21')"
      ]
     },
     "execution_count": 5,
     "metadata": {},
     "output_type": "execute_result"
    }
   ],
   "source": [
    "np.array([[1,1,1],[1,'G',1],[1,1,1]])"
   ]
  },
  {
   "cell_type": "code",
   "execution_count": 166,
   "metadata": {},
   "outputs": [],
   "source": [
    "    cube={\n",
    "        'side_g' : np.array([['g11','g12','g13'],\n",
    "                             ['g21',' G ','g23'],\n",
    "                             ['g31','g32','g33']]),\n",
    "       \n",
    "        'side_w' : np.array([['w11','w12','w13'],\n",
    "                             ['w21',' W ','w23'],\n",
    "                             ['w31','w32','w33']]),\n",
    "       \n",
    "        'side_r' : np.array([['r11','r12','r13'],\n",
    "                             ['r21',' R ','r23'],\n",
    "                             ['r31','r32','r33']]),\n",
    "       \n",
    "        'side_y' : np.array([['y11','y12','y13'],\n",
    "                             ['y21',' Y ','y23'],\n",
    "                             ['y31','y32','y33']]),\n",
    "       \n",
    "        'side_b' : np.array([['b11','b12','b13'],\n",
    "                             ['b21',' B ','b23'],\n",
    "                             ['b31','b32','b33']]),\n",
    "       \n",
    "        'side_o' : np.array([['o11','o12','o13'],\n",
    "                             ['o21',' O ','o23'],\n",
    "                             ['o31','o32','o33']])}"
   ]
  },
  {
   "cell_type": "code",
   "execution_count": 161,
   "metadata": {},
   "outputs": [],
   "source": [
    "class rubik:\n",
    "    \n",
    "    cube={\n",
    "        'side_g' : np.array([['g11','g12','g13'],\n",
    "                             ['g21',' G ','g23'],\n",
    "                             ['g31','g32','g33']]),\n",
    "       \n",
    "        'side_w' : np.array([['w11','w12','w13'],\n",
    "                             ['w21',' W ','w23'],\n",
    "                             ['w31','w32','w33']]),\n",
    "       \n",
    "        'side_r' : np.array([['r11','r12','r13'],\n",
    "                             ['r21',' R ','r23'],\n",
    "                             ['r31','r32','r33']]),\n",
    "       \n",
    "        'side_y' : np.array([['y11','y12','y13'],\n",
    "                             ['y21',' Y ','y23'],\n",
    "                             ['y31','y32','y33']]),\n",
    "       \n",
    "        'side_b' : np.array([['b11','b12','b13'],\n",
    "                             ['b21',' B ','b23'],\n",
    "                             ['b31','b32','b33']]),\n",
    "       \n",
    "        'side_o' : np.array([['o11','o12','o13'],\n",
    "                             ['o21',' O ','o23'],\n",
    "                             ['o31','o32','o33']])}\n",
    "    perif_name = {\n",
    "        #side: [above, below, left, right]\n",
    "        #side, row/col, same =  0/flipped =1\n",
    "        'side_g' :  [['side_w','lft',0],\n",
    "                     ['side_y','lft',0],\n",
    "                     ['side_o','rgt',0],\n",
    "                     ['side_r','lft',0]], #opp = b\n",
    "\n",
    "        'side_w' : [['side_o','top',1],\n",
    "                    ['side_r','bot',0],\n",
    "                    ['side_g','top',0],\n",
    "                    ['side_b','top',1]], #opp = y\n",
    "\n",
    "        'side_r' : [['side_w','top',0],\n",
    "                    ['side_y','top',0],\n",
    "                    ['side_g','rgt',0],\n",
    "                    ['side_b','lft',0]], #opp = o\n",
    "\n",
    "        'side_y' : [['side_r','bot',0],\n",
    "                    ['side_o','bot',1],\n",
    "                    ['side_g','bot',1],\n",
    "                    ['side_b','bot',0]], #opp = w\n",
    "\n",
    "        'side_b' : [['side_w','rgt',1],\n",
    "                    ['side_y','rgt',0],\n",
    "                    ['side_r','rgt',0],\n",
    "                    ['side_o','lft',0]], #opp = g\n",
    "\n",
    "        'side_o' : [['side_w','top',1],\n",
    "                    ['side_y','bot',1],\n",
    "                    ['side_b','bot',0],\n",
    "                    ['side_g','lft',0]]} #opp = 3\n",
    "    def face(side):\n",
    "        return(cube[side])\n",
    "    def place():\n",
    "        print(\"  w\")\n",
    "        print(\"g-r-b-o\")\n",
    "        print(\"  Y\")\n",
    "        \n",
    "    def neighbors(side,perif_name=perif_name):\n",
    "        print(\"{}\".format(side))\n",
    "        for p in range(4):\n",
    "            relation = ['top','bot','left','right']\n",
    "            print(\"{} side, is {}'s {} side\".format(relation[p],perif_name[side][p][0],perfif_name[side][p][1]))"
   ]
  },
  {
   "cell_type": "code",
   "execution_count": 162,
   "metadata": {},
   "outputs": [
    {
     "name": "stdout",
     "output_type": "stream",
     "text": [
      "side_g\n",
      "top side, is side_w's lft side\n",
      "bot side, is side_y's lft side\n",
      "left side, is side_o's rgt side\n",
      "right side, is side_r's lft side\n"
     ]
    }
   ],
   "source": [
    "rubik.neighbors('side_g')"
   ]
  },
  {
   "cell_type": "code",
   "execution_count": 74,
   "metadata": {},
   "outputs": [],
   "source": [
    "#Assuming the center piece never moves, we can assign a side by the color of the center piece\n",
    "#and each row relates to the \n",
    "#   2\n",
    "# 1-3-5-6\n",
    "#   4\n",
    "\n",
    "#  w\n",
    "#g-r-b-o\n",
    "#  y\n",
    "\n",
    "# center, top, bot, lft, right\n",
    "cube ={'side_g' :  np.array([['g11','g12','g13'],\n",
    "                             ['g21',' G ','g23'],\n",
    "                             ['g31','g32','g33']]),\n",
    "       \n",
    "        'side_w' : np.array([['w11','w12','w13'],\n",
    "                             ['w21',' W ','w23'],\n",
    "                             ['w31','w32','w33']]),\n",
    "       \n",
    "        'side_r' : np.array([['r11','r12','r13'],\n",
    "                             ['r21',' R ','r23'],\n",
    "                             ['r31','r32','r33']]),\n",
    "       \n",
    "        'side_y' : np.array([['y11','y12','y13'],\n",
    "                             ['y21',' Y ','y23'],\n",
    "                             ['y31','y32','y33']]),\n",
    "       \n",
    "        'side_b' : np.array([['b11','b12','b13'],\n",
    "                             ['b21',' B ','b23'],\n",
    "                             ['b31','b32','b33']]),\n",
    "       \n",
    "        'side_o' : np.array([['o11','o12','o13'],\n",
    "                             ['o21',' O ','o23'],\n",
    "                             ['o31','o32','o33']])}"
   ]
  },
  {
   "cell_type": "code",
   "execution_count": 38,
   "metadata": {},
   "outputs": [
    {
     "ename": "SyntaxError",
     "evalue": "invalid syntax (<ipython-input-38-f25d9f163742>, line 1)",
     "output_type": "error",
     "traceback": [
      "\u001b[0;36m  File \u001b[0;32m\"<ipython-input-38-f25d9f163742>\"\u001b[0;36m, line \u001b[0;32m1\u001b[0m\n\u001b[0;31m    [:,0] # left row\u001b[0m\n\u001b[0m     ^\u001b[0m\n\u001b[0;31mSyntaxError\u001b[0m\u001b[0;31m:\u001b[0m invalid syntax\n"
     ]
    }
   ],
   "source": [
    "[:,0] # left row\n",
    "[:,2] # right row\n",
    "[0] # top col\n",
    "[2] # bot col\n",
    "[::-1] #reverse"
   ]
  },
  {
   "cell_type": "code",
   "execution_count": 121,
   "metadata": {},
   "outputs": [],
   "source": [
    "perif_name = {\n",
    "    'side_g' :  [['side_w','lft',0],\n",
    "                 ['side_y','lft',0],\n",
    "                 ['side_o','rgt',0],\n",
    "                 ['side_r','lft',0]], #opp = b\n",
    "    \n",
    "    'side_w' : [['side_o','top',1],\n",
    "                ['side_r','bot',0],\n",
    "                ['side_g','top',0],\n",
    "                ['side_b','top',1]], #opp = y\n",
    "    \n",
    "    'side_r' : [['side_w','top',0],\n",
    "                ['side_y','top',0],\n",
    "                ['side_g','rgt',0],\n",
    "                ['side_b','lft',0]], #opp = o\n",
    "    \n",
    "    'side_y' : [['side_r','bot',0],\n",
    "                ['side_o','bot',1],\n",
    "                ['side_g','bot',1],\n",
    "                ['side_b','bot',0]], #opp = w\n",
    "    \n",
    "    'side_b' : [['side_w','rgt',1],\n",
    "                ['side_y','rgt',0],\n",
    "                ['side_r','rgt',0],\n",
    "                ['side_o','lft',0]], #opp = g\n",
    "    \n",
    "    'side_o' : [['side_w','top',1],\n",
    "                ['side_y','bot',1],\n",
    "                ['side_b','bot',0],\n",
    "                ['side_g','lft',0]]} #opp = 3"
   ]
  },
  {
   "cell_type": "code",
   "execution_count": 124,
   "metadata": {},
   "outputs": [
    {
     "data": {
      "text/plain": [
       "[['side_w', 'rgt', 1],\n",
       " ['side_y', 'rgt', 0],\n",
       " ['side_r', 'rgt', 0],\n",
       " ['side_o', 'lft', 0]]"
      ]
     },
     "execution_count": 124,
     "metadata": {},
     "output_type": "execute_result"
    }
   ],
   "source": [
    "perif_name['side_b']"
   ]
  },
  {
   "cell_type": "code",
   "execution_count": 75,
   "metadata": {},
   "outputs": [],
   "source": [
    "#manually assigned location \n",
    "#  w\n",
    "#g-r-b-o\n",
    "#  y\n",
    "#[:,0] # left row\n",
    "#[:,2] # right row\n",
    "#[0] # top col\n",
    "#[2] # bot col\n",
    "#[::-1] #reverse\n",
    "\n",
    "perif_map = {\n",
    "    'relation' : ['above','below','left','right'],\n",
    "    'side_g' : [cube['side_w'][:,0],\n",
    "                cube['side_y'][:,0],\n",
    "                cube['side_o'][:,2],\n",
    "                cube['side_r'][:,0]\n",
    "               ], #opp = b\n",
    "    \n",
    "    'side_w' : [cube['side_o'][0][::-1],\n",
    "                cube['side_r'][0],\n",
    "                cube['side_g'][:,2],\n",
    "                cube['side_b'][0][::-1]\n",
    "               ], #opp = y\n",
    "\n",
    "    'side_r' : [cube['side_w'][2],\n",
    "                cube['side_y'][0],\n",
    "                cube['side_g'][:,2],\n",
    "                cube['side_b'][:,0]\n",
    "                ], #opp = o\n",
    "        \n",
    "    'side_y' : [cube['side_r'][2],\n",
    "                cube['side_o'][2][::-1],\n",
    "                cube['side_g'][2][::-1],\n",
    "                cube['side_b'][2]\n",
    "               ], #opp = w\n",
    "      \n",
    "    'side_b' : [cube['side_w'][:,2][::-1],\n",
    "                cube['side_y'][:,2],\n",
    "                cube['side_r'][:,2],\n",
    "                cube['side_o'][:,0]\n",
    "               ], #opp = g\n",
    "    \n",
    "    'side_o' : [cube['side_w'][0][::-1],\n",
    "                cube['side_y'][2][::-1],\n",
    "                cube['side_b'][:,2],\n",
    "                cube['side_g'][:,0]\n",
    "               ]} #opp = 3"
   ]
  },
  {
   "cell_type": "code",
   "execution_count": 190,
   "metadata": {},
   "outputs": [],
   "source": [
    "#5x5 matrix of center 3x3 and edges\n",
    "#    o-   TOP  -o \n",
    "#  L    -r-r-r-   R\n",
    "#  F    -r-r-r-   I\n",
    "#  T    -r-r-r-   T\n",
    "#    o- BOTTOM -o\n",
    "\n",
    "def build_5b(side):\n",
    "    mat_5 = [['   ',perif_map[side][0][0],perif_map[side][0][1],perif_map[side][0][2],'   '],\n",
    "      [perif_map[side][2][0],cube[side][0][0],cube[side][0][1],cube[side][0][2],perif_map[side][3][0]],\n",
    "      [perif_map[side][2][1],cube[side][1][0],cube[side][1][1],cube[side][1][2],perif_map[side][3][1]],\n",
    "      [perif_map[side][2][2],cube[side][2][0],cube[side][2][1],cube[side][2][2],perif_map[side][3][2]],\n",
    "            ['   ',perif_map[side][1][0],perif_map[side][1][1],perif_map[side][1][2],'   ']]\n",
    "    return mat_5"
   ]
  },
  {
   "cell_type": "code",
   "execution_count": 191,
   "metadata": {},
   "outputs": [
    {
     "data": {
      "text/plain": [
       "[['   ', 'w13', 'w12', 'w11', '   '],\n",
       " ['b13', 'o11', 'o12', 'o13', 'g11'],\n",
       " ['b23', 'o21', ' O ', 'o23', 'g21'],\n",
       " ['b33', 'o31', 'o32', 'o33', 'g31'],\n",
       " ['   ', 'y33', 'y32', 'y31', '   ']]"
      ]
     },
     "execution_count": 191,
     "metadata": {},
     "output_type": "execute_result"
    }
   ],
   "source": [
    "build_5b('side_o')"
   ]
  },
  {
   "cell_type": "code",
   "execution_count": 199,
   "metadata": {},
   "outputs": [],
   "source": [
    "def rotate_side(side):\n",
    "    \"\"\"\n",
    "    rotates side clockwise 90deg\n",
    "    \"\"\"\n",
    "    new_side = np.rot90(build_5b(side).copy(),-1)\n",
    "    return new_side"
   ]
  },
  {
   "cell_type": "code",
   "execution_count": 200,
   "metadata": {},
   "outputs": [
    {
     "data": {
      "text/plain": [
       "[['   ', 'w13', 'w12', 'w11', '   '],\n",
       " ['b13', 'o11', 'o12', 'o13', 'g11'],\n",
       " ['b23', 'o21', ' O ', 'o23', 'g21'],\n",
       " ['b33', 'o31', 'o32', 'o33', 'g31'],\n",
       " ['   ', 'y33', 'y32', 'y31', '   ']]"
      ]
     },
     "execution_count": 200,
     "metadata": {},
     "output_type": "execute_result"
    }
   ],
   "source": [
    "build_5b('side_o')"
   ]
  },
  {
   "cell_type": "code",
   "execution_count": 201,
   "metadata": {},
   "outputs": [
    {
     "data": {
      "text/plain": [
       "array([['   ', 'g11', 'g21', 'g31', '   '],\n",
       "       ['w11', 'o13', 'o23', 'o33', 'y31'],\n",
       "       ['w12', 'o12', ' O ', 'o32', 'y32'],\n",
       "       ['w13', 'o11', 'o21', 'o31', 'y33'],\n",
       "       ['   ', 'b13', 'b23', 'b33', '   ']], dtype='<U3')"
      ]
     },
     "execution_count": 201,
     "metadata": {},
     "output_type": "execute_result"
    }
   ],
   "source": [
    "np.rot90(build_5b('side_o'))"
   ]
  },
  {
   "cell_type": "code",
   "execution_count": 204,
   "metadata": {},
   "outputs": [
    {
     "data": {
      "text/plain": [
       "array([['   ', 'b33', 'b23', 'b13', '   '],\n",
       "       ['y33', 'o31', 'o21', 'o11', 'w13'],\n",
       "       ['y32', 'o32', ' O ', 'o12', 'w12'],\n",
       "       ['y31', 'o33', 'o23', 'o13', 'w11'],\n",
       "       ['   ', 'g31', 'g21', 'g11', '   ']], dtype='<U3')"
      ]
     },
     "execution_count": 204,
     "metadata": {},
     "output_type": "execute_result"
    }
   ],
   "source": [
    "rot = rotate_side('side_o')\n",
    "rot"
   ]
  },
  {
   "cell_type": "code",
   "execution_count": 248,
   "metadata": {},
   "outputs": [
    {
     "data": {
      "text/plain": [
       "array(['o11', 'o12', 'o13'], dtype='<U3')"
      ]
     },
     "execution_count": 248,
     "metadata": {},
     "output_type": "execute_result"
    }
   ],
   "source": [
    "cube['side_o'][0][:]"
   ]
  },
  {
   "cell_type": "code",
   "execution_count": 251,
   "metadata": {},
   "outputs": [
    {
     "name": "stdout",
     "output_type": "stream",
     "text": [
      "['w11' 'w21' 'w31']\n",
      "['y11' 'y21' 'y31']\n",
      "['o13' 'o23' 'o33']\n",
      "['r11' 'r21' 'r31']\n"
     ]
    }
   ],
   "source": [
    "for pos in ['top','bot','lft','rgt']:\n",
    "#    print(perif_loc['side_g'][pos])\n",
    "#perif_loc[side_x] = [t-r] : 'face on t-r side', 'that face's row/col', if flip 0=no, 1=yes\n",
    "\"\"\"\n",
    "    Here we are useing the perif location, to fetch the side and position, \n",
    "    in relation to the parent cube.\n",
    "    \n",
    "    This is a replacement to perif_map.\n",
    "\n",
    "    \n",
    "\"\"\"\n",
    "    if perif_loc['side_g'][pos][1]=='top':\n",
    "        if perif_loc['side_g'][pos][2]==1: \n",
    "            print(cube[perif_loc['side_g'][pos][0]][0][::-1])\n",
    "        else:\n",
    "            print(cube[perif_loc['side_g'][pos][0]][0])\n",
    "            \n",
    "    elif perif_loc['side_g'][pos][1]=='bot':\n",
    "        if perif_loc['side_g'][pos][2]==1:\n",
    "            print(cube[perif_loc['side_g'][pos][0]][2][::-1])       \n",
    "        else:\n",
    "            print(cube[perif_loc['side_g'][pos][0]][2])\n",
    "            \n",
    "    elif perif_loc['side_g'][pos][1]=='lft':\n",
    "        if perif_loc['side_g'][pos][2]==1:\n",
    "            print(cube[perif_loc['side_g'][pos][0]][:,0][::-1])\n",
    "        else:\n",
    "            print(cube[perif_loc['side_g'][pos][0]][:,0])\n",
    "        \n",
    "    elif perif_loc['side_g'][pos][1]=='rgt':\n",
    "        if perif_loc['side_g'][pos][2]==1:\n",
    "            print(cube[perif_loc['side_g'][pos][0]][:,2][::-1])\n",
    "        else:\n",
    "            print(cube[perif_loc['side_g'][pos][0]][:,2])\n",
    "    else:\n",
    "        print('somthing in perif_loc dict, is wrong')"
   ]
  },
  {
   "cell_type": "code",
   "execution_count": 207,
   "metadata": {},
   "outputs": [],
   "source": [
    "perif_loc = {\n",
    "    'side_g' : {'top':['side_w','lft',0],\n",
    "                'bot':['side_y','lft',0],\n",
    "                'lft':['side_o','rgt',0],\n",
    "                'rgt':['side_r','lft',0]},\n",
    "    \n",
    "    'side_w' : {\"top\":['side_o','top',1],\n",
    "                \"bot\":['side_r','bot',0],\n",
    "                \"lft\":['side_g','top',0],\n",
    "                \"rgt\":['side_b','top',1]}, #opp = y\n",
    "    \n",
    "    'side_r' : {\"top\":['side_w','top',0],\n",
    "                \"bot\":['side_y','top',0],\n",
    "                \"lft\":['side_g','rgt',0],\n",
    "                \"rgt\":['side_b','lft',0]}, #opp = o\n",
    "    \n",
    "    'side_y' : {\"top\":['side_r','bot',0],\n",
    "                \"bot\":['side_o','bot',1],\n",
    "                \"lft\":['side_g','bot',1],\n",
    "                \"rgt\":['side_b','bot',0]}, #opp = w\n",
    "    \n",
    "    'side_b' : {\"top\":['side_w','rgt',1],\n",
    "                \"bot\":['side_y','rgt',0],\n",
    "                \"lft\":['side_r','rgt',0],\n",
    "                \"rgt\":['side_o','lft',0]}, #opp = g\n",
    "    \n",
    "    'side_o' : {\"top\":['side_w','top',1],\n",
    "                \"bot\":['side_y','bot',1],\n",
    "                \"lft\":['side_b','bot',0],\n",
    "                \"rgt\":['side_g','lft',0]}} #opp = 3"
   ]
  },
  {
   "cell_type": "code",
   "execution_count": 252,
   "metadata": {},
   "outputs": [
    {
     "data": {
      "text/plain": [
       "['side_w', 'lft', 0]"
      ]
     },
     "execution_count": 252,
     "metadata": {},
     "output_type": "execute_result"
    }
   ],
   "source": [
    "perif_loc['side_g']['top']"
   ]
  },
  {
   "cell_type": "code",
   "execution_count": null,
   "metadata": {},
   "outputs": [],
   "source": []
  }
 ],
 "metadata": {
  "kernelspec": {
   "display_name": "Python [conda root]",
   "language": "python",
   "name": "conda-root-py"
  },
  "language_info": {
   "codemirror_mode": {
    "name": "ipython",
    "version": 3
   },
   "file_extension": ".py",
   "mimetype": "text/x-python",
   "name": "python",
   "nbconvert_exporter": "python",
   "pygments_lexer": "ipython3",
   "version": "3.6.4"
  }
 },
 "nbformat": 4,
 "nbformat_minor": 2
}
