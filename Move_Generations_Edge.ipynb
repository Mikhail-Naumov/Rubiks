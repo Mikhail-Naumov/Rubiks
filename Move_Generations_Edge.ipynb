{
 "cells": [
  {
   "cell_type": "markdown",
   "metadata": {},
   "source": [
    "### Edges\n",
    "\n",
    "### this notebook is for assuming that using rows to delinate location of a piece is a bad, idea, and rather use the edges.\n",
    "\n",
    "#### todo\n",
    " - Generate a cube -> matrix generation\n",
    " - Generate move -> 'tranformations scripts'\n",
    "\n",
    " \n",
    "![](https://upload.wikimedia.org/wikipedia/commons/thumb/1/19/Rubik%E2%80%99s_cube_colors.svg/220px-Rubik%E2%80%99s_cube_colors.svg.png)\n"
   ]
  },
  {
   "cell_type": "code",
   "execution_count": 4,
   "metadata": {},
   "outputs": [],
   "source": [
    "import numpy as np"
   ]
  },
  {
   "cell_type": "code",
   "execution_count": 108,
   "metadata": {},
   "outputs": [],
   "source": [
    "#Assuming the center piece never moves, we can assign a side by the color of the center piece\n",
    "#and each row relates to the \n",
    "#   2\n",
    "# 1-3-5-6\n",
    "#   4\n",
    "\n",
    "cube ={'side_1' :  [np.array([1,1,'l1']),\n",
    "                    np.array([1,1,'l2']),\n",
    "                    np.array([1,1,'l3'])],\n",
    "        'side_2' : [np.array([2,2,2]),\n",
    "                    np.array([2,2,2]),\n",
    "                    np.array([2,2,2])],\n",
    "        'side_3' : [np.array([3,3,3]),\n",
    "                    np.array([3,3,3]),\n",
    "                    np.array([3,3,3])],\n",
    "        'side_4' : [np.array([4,4,4]),\n",
    "                    np.array([4,4,4]),\n",
    "                    np.array([4,4,4])],\n",
    "        'side_5' : [np.array(['r',5,5]),\n",
    "                    np.array(['r2',5,5]),\n",
    "                    np.array(['r3',5,5])],\n",
    "        'side_6' : [np.array([6,6,6]),\n",
    "                    np.array([6,6,6]),\n",
    "                    np.array([6,6,6])]}"
   ]
  },
  {
   "cell_type": "code",
   "execution_count": 109,
   "metadata": {},
   "outputs": [],
   "source": [
    "#manually assigned location \n",
    "perif_map = {\n",
    "    'relation' : ['above','below','left','right'],\n",
    "    'side_1' : [[cube['side_2'][0][0],cube['side_2'][1][0],cube['side_2'][2][0]],\n",
    "                [cube['side_4'][0][0],cube['side_4'][1][0],cube['side_4'][2][0]],\n",
    "                [cube['side_6'][0][2],cube['side_6'][1][2],cube['side_6'][2][2]],\n",
    "                [cube['side_3'][0][0],cube['side_3'][1][0],cube['side_3'][2][0]]\n",
    "               ], #opp = 5\n",
    "    \n",
    "    \n",
    "    'side_2' : [[cube['side_6'][0][2],cube['side_6'][0][1],cube['side_6'][0][0]],\n",
    "                [cube['side_3'][0][0],cube['side_3'][0][1],cube['side_3'][0][2]],\n",
    "                [cube['side_1'][0][0],cube['side_1'][0][1],cube['side_1'][0][2]],\n",
    "                [cube['side_5'][0][2],cube['side_5'][0][1],cube['side_5'][0][0]]\n",
    "               ], #opp = 4\n",
    "\n",
    "    'side_3' : [[cube['side_2'][2][0],cube['side_2'][2][1],cube['side_2'][2][2]],\n",
    "                [cube['side_4'][0][0],cube['side_4'][0][1],cube['side_4'][0][2]],\n",
    "                [cube['side_1'][0][2],cube['side_1'][1][2],cube['side_1'][2][2]],\n",
    "                [cube['side_5'][0][0],cube['side_5'][1][0],cube['side_5'][2][0]]\n",
    "                ], #opp = 6\n",
    "        \n",
    "    'side_4' : [[cube['side_3'][2][0],cube['side_3'][2][1],cube['side_3'][2][2]],\n",
    "                [cube['side_6'][2][2],cube['side_6'][2][1],cube['side_6'][2][0]],\n",
    "                [cube['side_1'][2][2],cube['side_1'][2][1],cube['side_1'][2][0]],\n",
    "                [cube['side_5'][2][0],cube['side_5'][2][1],cube['side_5'][2][2]]\n",
    "               ], #opp = 2\n",
    "    \n",
    "    \n",
    "    'side_5' : [[cube['side_2'][2][2],cube['side_2'][1][2],cube['side_2'][0][2]],\n",
    "                [cube['side_4'][0][2],cube['side_4'][1][2],cube['side_4'][2][2]],\n",
    "                [cube['side_3'][0][2],cube['side_3'][1][2],cube['side_3'][2][2]],\n",
    "                [cube['side_6'][2][0],cube['side_6'][1][0],cube['side_6'][0][0]]\n",
    "               ], #opp = 1\n",
    "    \n",
    "    'side_6' : [[cube['side_2'][0][2],cube['side_2'][0][1],cube['side_2'][0][0]],\n",
    "                [cube['side_4'][0][2],cube['side_4'][1][2],cube['side_4'][2][2]],\n",
    "                [cube['side_5'][0][2],cube['side_5'][1][2],cube['side_5'][2][2]],\n",
    "                [cube['side_1'][0][0],cube['side_1'][1][0],cube['side_1'][2][0]]\n",
    "               ]} #opp = 3"
   ]
  },
  {
   "cell_type": "code",
   "execution_count": 110,
   "metadata": {},
   "outputs": [],
   "source": [
    "#5x5 matrix of center 3x3 and edges\n",
    "#    o-   TOP  -o \n",
    "#  L    -r-r-r-   R\n",
    "#  F    -r-r-r-   I\n",
    "#  T    -r-r-r-   T\n",
    "#    o- BOTTOM -o\n",
    "\n",
    "def build_5b(side):\n",
    "    mat_5 = [[0,perif_map[side][0][0],perif_map[side][0][1],perif_map[side][0][2],0],\n",
    "      [perif_map[side][2][0],cube[side][0][0],cube[side][0][1],cube[side][0][2],perif_map[side][3][0]],\n",
    "      [perif_map[side][2][1],cube[side][1][0],cube[side][1][1],cube[side][1][2],perif_map[side][3][1]],\n",
    "      [perif_map[side][2][2],cube[side][2][0],cube[side][2][1],cube[side][2][2],perif_map[side][3][2]],\n",
    "            [0,perif_map[side][1][0],perif_map[side][1][1],perif_map[side][1][2],0]]\n",
    "    return mat_5"
   ]
  },
  {
   "cell_type": "code",
   "execution_count": 111,
   "metadata": {},
   "outputs": [
    {
     "data": {
      "text/plain": [
       "[[6, 6, 6], [3, 3, 3], ['1', '1', 'l1'], ['5', '5', 'r']]"
      ]
     },
     "execution_count": 111,
     "metadata": {},
     "output_type": "execute_result"
    }
   ],
   "source": [
    "perif_map['side_2']"
   ]
  },
  {
   "cell_type": "code",
   "execution_count": 113,
   "metadata": {},
   "outputs": [
    {
     "data": {
      "text/plain": [
       "[[0, 2, 2, 2, 0],\n",
       " ['l1', 3, 3, 3, 'r'],\n",
       " ['l2', 3, 3, 3, 'r2'],\n",
       " ['l3', 3, 3, 3, 'r3'],\n",
       " [0, 4, 4, 4, 0]]"
      ]
     },
     "execution_count": 113,
     "metadata": {},
     "output_type": "execute_result"
    }
   ],
   "source": [
    "build_5b('side_3')"
   ]
  },
  {
   "cell_type": "code",
   "execution_count": null,
   "metadata": {},
   "outputs": [],
   "source": []
  }
 ],
 "metadata": {
  "kernelspec": {
   "display_name": "Python [conda root]",
   "language": "python",
   "name": "conda-root-py"
  },
  "language_info": {
   "codemirror_mode": {
    "name": "ipython",
    "version": 3
   },
   "file_extension": ".py",
   "mimetype": "text/x-python",
   "name": "python",
   "nbconvert_exporter": "python",
   "pygments_lexer": "ipython3",
   "version": "3.6.4"
  }
 },
 "nbformat": 4,
 "nbformat_minor": 2
}
